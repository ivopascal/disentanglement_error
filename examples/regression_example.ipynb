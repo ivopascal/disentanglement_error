{
 "cells": [
  {
   "cell_type": "code",
   "id": "initial_id",
   "metadata": {
    "collapsed": true,
    "ExecuteTime": {
     "end_time": "2025-08-13T13:17:48.424877Z",
     "start_time": "2025-08-13T13:17:48.417111Z"
    }
   },
   "source": [
    "import numpy as np\n",
    "from src.disentangling_model import DisentanglingModel\n",
    "from src.disentanglement_error import disentanglement_error\n",
    "from sklearn.metrics import mean_absolute_error\n",
    "from keras import Sequential\n",
    "from keras.layers import Dense, Input\n",
    "from keras.models import Model\n",
    "from keras.callbacks import EarlyStopping\n",
    "from keras_uncertainty.models import TwoHeadStochasticRegressor\n",
    "from keras_uncertainty.layers import StochasticDropout\n",
    "from keras import backend as K\n",
    "\n",
    "\n",
    "def custom_regression_gaussian_nll_loss(y_true, mean, variance):\n",
    "    epsilon = 1e-8\n",
    "\n",
    "    return 0.5 * K.mean(K.log(variance + epsilon) + K.square(y_true - mean) / (variance + epsilon))\n",
    "\n",
    "\n",
    "class RegressionModel(DisentanglingModel):\n",
    "\n",
    "    def __init__(self):\n",
    "        super().__init__()\n",
    "\n",
    "    def fit(self, X, y):\n",
    "        inp = Input(shape=9)\n",
    "        x = Dense(16, activation='relu')(inp)\n",
    "        x = StochasticDropout(0.2)(x)\n",
    "        x = Dense(16, activation='relu')(inp)\n",
    "        x = StochasticDropout(0.2)(x)\n",
    "        mean = Dense(1, activation=\"linear\")(x)\n",
    "        var = Dense(1, activation=\"softplus\")(x)\n",
    "        label_layer = Input((1,))\n",
    "\n",
    "        train_model = Model([inp, label_layer], [mean, var], name=\"train_model\")\n",
    "        pred_model = Model(inp, [mean, var], name=\"pred_model\")\n",
    "\n",
    "        loss = custom_regression_gaussian_nll_loss(label_layer, mean, var)\n",
    "        train_model.add_loss(loss)\n",
    "\n",
    "        train_model.compile(optimizer=\"adam\", metrics=[\"mse\"])\n",
    "        train_model.fit([X, y], np.empty_like(y), epochs=50, batch_size=32, callbacks=EarlyStopping(monitor='loss', patience=2), verbose=0)\n",
    "        final_model = TwoHeadStochasticRegressor(pred_model, variance_type=\"linear_std\")\n",
    "\n",
    "        self.model = final_model\n",
    "\n",
    "\n",
    "\n",
    "    def predict_disentangling(self, X):\n",
    "        pred_mean, pred_ale_std, pred_epi_std  = self.model.predict(X, num_samples=25, batch_size=32, disentangle_uncertainty=True)\n",
    "\n",
    "        return pred_mean, pred_ale_std, pred_epi_std\n",
    "\n",
    "\n",
    "    def score(self, y_true, y_pred):\n",
    "        return mean_absolute_error(y_true, y_pred)\n",
    "\n",
    "    def is_regression(self):\n",
    "        return True"
   ],
   "outputs": [],
   "execution_count": 7
  },
  {
   "metadata": {
    "ExecuteTime": {
     "end_time": "2025-08-13T13:18:01.898428Z",
     "start_time": "2025-08-13T13:17:48.871001Z"
    }
   },
   "cell_type": "code",
   "source": [
    "from sklearn.datasets import load_wine\n",
    "from sklearn.model_selection import train_test_split\n",
    "from sklearn.preprocessing import LabelEncoder, StandardScaler\n",
    "import pandas as pd\n",
    "\n",
    "url = 'http://archive.ics.uci.edu/ml/machine-learning-databases/auto-mpg/auto-mpg.data'\n",
    "column_names = ['MPG', 'Cylinders', 'Displacement', 'Horsepower', 'Weight',\n",
    "                'Acceleration', 'Model Year', 'Origin']\n",
    "\n",
    "raw_dataset = pd.read_csv(url, names=column_names,\n",
    "                          na_values='?', comment='\\t',\n",
    "                          sep=' ', skipinitialspace=True)\n",
    "dataset = raw_dataset.copy()\n",
    "dataset = dataset.dropna()\n",
    "\n",
    "dataset['Origin'] = dataset['Origin'].map({1: 'USA', 2: 'Europe', 3: 'Japan'})\n",
    "dataset = pd.get_dummies(dataset, columns=['Origin'], prefix='', prefix_sep='')\n",
    "train_dataset = dataset.sample(frac=0.8, random_state=0)\n",
    "test_dataset = dataset.drop(train_dataset.index)\n",
    "\n",
    "train_features = train_dataset.copy()\n",
    "test_features = test_dataset.copy()\n",
    "\n",
    "train_labels = train_features.pop('MPG')\n",
    "test_labels = test_features.pop('MPG')\n",
    "\n",
    "normalizer = StandardScaler()\n",
    "normalizer.fit(train_features)\n",
    "train_features = normalizer.transform(train_features)\n",
    "test_features = normalizer.transform(test_features)\n",
    "\n",
    "x_train = np.array(train_features).astype('float32')\n",
    "y_train = np.array(train_labels).astype('float32')\n",
    "x_test = np.array(test_features).astype('float32')\n",
    "y_test = np.array(test_labels).astype('float32')\n",
    "\n",
    "\n",
    "kw_config = {\"n_runs\": 1,\n",
    "             \"dataset_sizes\": [0.1, 0.5, 0.9],\n",
    "             \"label_noises\": [0.1, 0.5, 0.9],\n",
    "             }\n",
    "\n",
    "\n",
    "print(disentanglement_error(x_train, y_train, RegressionModel(), x_test, y_test, kw_config=kw_config))"
   ],
   "id": "e18d37217ae908c4",
   "outputs": [
    {
     "name": "stdout",
     "output_type": "stream",
     "text": [
      "1.3717118118888403\n"
     ]
    }
   ],
   "execution_count": 8
  },
  {
   "metadata": {},
   "cell_type": "code",
   "outputs": [],
   "execution_count": null,
   "source": "",
   "id": "85efd465035831ff"
  }
 ],
 "metadata": {
  "kernelspec": {
   "display_name": "Python 3",
   "language": "python",
   "name": "python3"
  },
  "language_info": {
   "codemirror_mode": {
    "name": "ipython",
    "version": 2
   },
   "file_extension": ".py",
   "mimetype": "text/x-python",
   "name": "python",
   "nbconvert_exporter": "python",
   "pygments_lexer": "ipython2",
   "version": "2.7.6"
  }
 },
 "nbformat": 4,
 "nbformat_minor": 5
}
