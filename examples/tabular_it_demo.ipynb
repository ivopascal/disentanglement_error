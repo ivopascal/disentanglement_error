{
 "cells": [
  {
   "cell_type": "code",
   "id": "initial_id",
   "metadata": {
    "collapsed": true,
    "ExecuteTime": {
     "end_time": "2025-08-12T14:08:04.640725Z",
     "start_time": "2025-08-12T14:08:02.532688Z"
    }
   },
   "source": [
    "import numpy as np\n",
    "from src.disentangling_model import DisentanglingModel\n",
    "from src.disentanglement_error import disentanglement_error\n",
    "from sklearn.metrics import accuracy_score\n",
    "from keras import Sequential\n",
    "from keras.layers import Dense, Input\n",
    "from keras.callbacks import EarlyStopping\n",
    "from keras_uncertainty.models import StochasticClassifier\n",
    "from keras_uncertainty.layers import StochasticDropout\n",
    "\n",
    "def entropy(probs, axis=-1, eps=1e-6):\n",
    "    return -np.sum(probs * np.log(probs + eps), axis=axis)\n",
    "\n",
    "\n",
    "def predictive_entropy(probs, axis=-1) -> np.ndarray:\n",
    "    probs = np.mean(probs, axis=0)\n",
    "    return entropy(probs, axis)\n",
    "\n",
    "\n",
    "def expected_entropy(probs, eps=1e-6) -> np.ndarray:\n",
    "    return -np.mean((probs * np.log(probs + eps)).sum(axis=-1), axis=0)\n",
    "\n",
    "\n",
    "def mutual_information(probs) -> np.ndarray:\n",
    "    return predictive_entropy(probs) - expected_entropy(probs)\n",
    "\n",
    "\n",
    "class WineITModel(DisentanglingModel):\n",
    "\n",
    "    def __init__(self):\n",
    "        super().__init__()\n",
    "\n",
    "    def fit(self, X, y):\n",
    "        model = Sequential()\n",
    "        model.add(Input(13))\n",
    "        model.add(Dense(32, activation='relu'))\n",
    "        model.add(StochasticDropout(0.2))\n",
    "        model.add(Dense(32, activation='relu'))\n",
    "        model.add(StochasticDropout(0.2))\n",
    "        model.add(Dense(32, activation='relu'))\n",
    "        model.add(StochasticDropout(0.2))\n",
    "        model.add(Dense(3, activation='softmax'))\n",
    "\n",
    "        model.compile(loss=\"sparse_categorical_crossentropy\", optimizer=\"adam\", metrics=[\"accuracy\"])\n",
    "        model.fit(X, y, epochs=50, batch_size=32, callbacks=EarlyStopping(monitor='loss', patience=2), verbose=0)\n",
    "        self.model = StochasticClassifier(model)\n",
    "\n",
    "\n",
    "    def predict_disentangling(self, X):\n",
    "        stochastic_preds = self.model.predict_samples(X, num_samples=25, batch_size=32)\n",
    "\n",
    "        classifications = stochastic_preds.mean(axis=0).argmax(axis=1)\n",
    "        aleatorics = expected_entropy(stochastic_preds)\n",
    "        epistemics = mutual_information(stochastic_preds)\n",
    "        return classifications, aleatorics, epistemics\n",
    "\n",
    "\n",
    "    def score(self, y_true, y_pred):\n",
    "        return accuracy_score(y_true, y_pred)\n",
    "\n",
    "    def is_regression(self):\n",
    "        return False"
   ],
   "outputs": [
    {
     "name": "stderr",
     "output_type": "stream",
     "text": [
      "Keras Uncertainty will use standalone Keras backend"
     ]
    }
   ],
   "execution_count": 1
  },
  {
   "metadata": {
    "ExecuteTime": {
     "end_time": "2025-08-12T14:08:36.802265Z",
     "start_time": "2025-08-12T14:08:04.644765Z"
    }
   },
   "cell_type": "code",
   "source": [
    "from sklearn.datasets import load_wine\n",
    "from sklearn.model_selection import train_test_split\n",
    "from sklearn.preprocessing import LabelEncoder, StandardScaler\n",
    "\n",
    "X, y = load_wine(return_X_y=True)\n",
    "\n",
    "le = LabelEncoder()\n",
    "y = le.fit_transform(y)\n",
    "\n",
    "sc = StandardScaler()\n",
    "X = sc.fit_transform(X)\n",
    "\n",
    "\n",
    "kw_config = {\"n_runs\": 2,\n",
    "             \"dataset_sizes\": [0.1, 0.25, 0.5, 0.75, 1.0],\n",
    "             }\n",
    "\n",
    "print(disentanglement_error(X, y, WineITModel(), kw_config=kw_config))"
   ],
   "id": "689012eec1e69c64",
   "outputs": [
    {
     "name": "stdout",
     "output_type": "stream",
     "text": [
      "0.5284331014528647\n"
     ]
    }
   ],
   "execution_count": 2
  }
 ],
 "metadata": {
  "kernelspec": {
   "display_name": "Python 3",
   "language": "python",
   "name": "python3"
  },
  "language_info": {
   "codemirror_mode": {
    "name": "ipython",
    "version": 2
   },
   "file_extension": ".py",
   "mimetype": "text/x-python",
   "name": "python",
   "nbconvert_exporter": "python",
   "pygments_lexer": "ipython2",
   "version": "2.7.6"
  }
 },
 "nbformat": 4,
 "nbformat_minor": 5
}
